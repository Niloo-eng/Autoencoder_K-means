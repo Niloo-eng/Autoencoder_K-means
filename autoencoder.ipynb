{
  "nbformat": 4,
  "nbformat_minor": 0,
  "metadata": {
    "colab": {
      "name": "autoencoder.ipynb",
      "provenance": [],
      "collapsed_sections": []
    },
    "kernelspec": {
      "name": "python3",
      "display_name": "Python 3"
    }
  },
  "cells": [
    {
      "cell_type": "code",
      "metadata": {
        "id": "HFhojTqTWD2j"
      },
      "source": [
        "import keras\n",
        "from keras.layers import Input, Dense\n",
        "from keras.models import Model\n",
        "from keras.callbacks import TensorBoard\n",
        "import numpy as np\n",
        "import tensorflow as tf\n",
        "import os\n",
        "\n"
      ],
      "execution_count": null,
      "outputs": []
    },
    {
      "cell_type": "code",
      "metadata": {
        "id": "_JNZmQ3vW7kV"
      },
      "source": [
        "def seedy(s):\n",
        "  np.random.seed(s)\n",
        "  tf.random.set_seed(s)\n",
        "\n",
        "class AutoEncoder:\n",
        "  def __init__(self, encoding_dim=3):\n",
        "    self.encoding_dim = encoding_dim\n",
        "    r = lambda: np.random.randint(1, 3)\n",
        "    self.x = np.array([[r(),r(),r()] for _ in range(1000)])\n",
        "    print(self.x)\n",
        "\n",
        "  def _encoder(self):\n",
        "  inputs = Input(shape=(self.x[0].shape))\n",
        "  encoded = Dense(self.encoding_dim,activation='relu')(inputs)\n",
        "  model = Model(inputs, encoded)\n",
        "  return model\n",
        "\n",
        "\n",
        "  def _decoder(self):\n",
        "  inputs = Input(shape=(self.encoding_dim,))\n",
        "  decoded = Dense(3)(inputs)\n",
        "  model = Model(inputs, decoded)\n",
        "  self.decoder = model\n",
        "  return model\n",
        "\n",
        "\n",
        "  def encoder_decoder(self):\n",
        "  es = self._encoder()\n",
        "  dc = self._decoder()\n",
        "\n",
        "  inputs = Input(shape=self.x[0].shape)\n",
        "  ec_out = ec(inputs)\n",
        "  dc_out = dc(ec_out)\n",
        "  model = Model(inputs, dc_out)\n",
        "\n",
        "  self.model = model\n",
        "  return model\n",
        "\n",
        "  def fit(self, batch_size = 10, epochs=100):\n",
        "    self.model.compile(optimizer='sgd', loss='mse')\n",
        "    log_dir = \n",
        "    tbCallBack = keras.callbacks.TensorBoard(log_dir=log_dir, histogram_freq=0, write_graph=True, write_images=True)\n",
        "    self.model.fit(self.x, self.x,\n",
        "                   epochs = epochs,\n",
        "                   batch_size=batch_size,\n",
        "                   callbacks=[tbcallbacks])\n",
        "    \n",
        "  def save(self):\n",
        "    if not os.pathexists():\n",
        "      os.mkdir()\n",
        "    else:\n",
        "      self.encoder.save()\n",
        "      self.decoder.save()\n",
        "      self.model.save()\n",
        "\n",
        "\n",
        "if __name__ == '__main__':\n",
        "  seedy(2)\n",
        "  ae = AutoEncoder(encoding_dim=2)\n",
        "  ae.encoder_decoder()\n",
        "  ae.fit(batch_size=50, epoch50)\n",
        "  ae.save()\n",
        "\n"
      ],
      "execution_count": null,
      "outputs": []
    },
    {
      "cell_type": "code",
      "metadata": {
        "id": "uiE_knkXcBh2"
      },
      "source": [
        "from keras.models import load_model\n",
        "import numpy as np\n",
        "\n",
        "encoder = load_model()\n",
        "#decoder = load_model()\n",
        "\n",
        "inputs = np.array([[1,2,2]])\n",
        "x = encoder.predict(inputs)\n",
        "\n"
      ],
      "execution_count": null,
      "outputs": []
    },
    {
      "cell_type": "code",
      "metadata": {
        "id": "fv8IMbE0QW9e"
      },
      "source": [
        "from sklearn.cluster import KMeans\n",
        "Kmeans = KMeans(n_cluster = 4, randomstate = 42).fit(x)"
      ],
      "execution_count": null,
      "outputs": []
    }
  ]
}